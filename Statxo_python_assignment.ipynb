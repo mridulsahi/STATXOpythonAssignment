{
  "nbformat": 4,
  "nbformat_minor": 0,
  "metadata": {
    "colab": {
      "provenance": []
    },
    "kernelspec": {
      "name": "python3",
      "display_name": "Python 3"
    },
    "language_info": {
      "name": "python"
    }
  },
  "cells": [
    {
      "cell_type": "markdown",
      "source": [
        "#STAXO PYTHON ASSIGNMENT\n",
        "###Submitted By: Mridul Sahi"
      ],
      "metadata": {
        "id": "SlJZxxYPM8zC"
      }
    },
    {
      "cell_type": "code",
      "execution_count": 3,
      "metadata": {
        "colab": {
          "base_uri": "https://localhost:8080/"
        },
        "id": "CGi_4iUM3zrh",
        "outputId": "f6a04832-1cdb-446c-cf51-295ce05f3601"
      },
      "outputs": [
        {
          "output_type": "stream",
          "name": "stdout",
          "text": [
            "3  Emp ID Region                  Name                    Department Month  \\\n",
            "4   10001   East          DeRusha, Joe  5255-Data/Connectivity Sales   Jan   \n",
            "5   10002   East  De Pasquale, Richard      5256-Sales Mgt & Support   Jan   \n",
            "6   10003   East        Dobbert, Susan               5257-Auto Sales   Jan   \n",
            "7   10001   East          DeRusha, Joe  5255-Data/Connectivity Sales   Jan   \n",
            "8   10002   East  De Pasquale, Richard      5256-Sales Mgt & Support   Jan   \n",
            "9   10003   East        Dobbert, Susan               5257-Auto Sales   Jan   \n",
            "10  10005   West         Dunton, Donna            5259-Sales Channel   Jan   \n",
            "11  10007   West      De Sousa, Kristi            5263-Sales Support   Jan   \n",
            "12  10004   East        Dillard, Susan                5258-IAP Sales   Jan   \n",
            "13  10005   West         Dunton, Donna            5259-Sales Channel   Jan   \n",
            "14  10006   West        De Vries, John                  5262-Auto GM   Jan   \n",
            "15  10007   West      De Sousa, Kristi            5263-Sales Support   Jan   \n",
            "16  10008   West       Defonso, Daniel                5264-ARD Sales   Jan   \n",
            "\n",
            "3   Year   Sales Discounts                 Date %Sales % Discount  \n",
            "4   FY13  100000     25000           24-01-2023    NaN        NaN  \n",
            "5   FY13  150000     30000  2023-01-01 00:00:00    NaN        NaN  \n",
            "6   FY13  200000     35000  2023-01-08 00:00:00    NaN        NaN  \n",
            "7   FY13  100000     25000  2023-01-28 00:00:00    NaN        NaN  \n",
            "8   FY13  150000     30000  2023-01-21 00:00:00    NaN        NaN  \n",
            "9   FY13  200000     35000  2023-01-23 00:00:00    NaN        NaN  \n",
            "10  FY13  300000     45000  2023-01-14 00:00:00    NaN        NaN  \n",
            "11  FY13  400000     55000           28-01-2023    NaN        NaN  \n",
            "12  FY13  250000     40000  2023-01-28 00:00:00    NaN        NaN  \n",
            "13  FY13  300000     45000  2023-01-21 00:00:00    NaN        NaN  \n",
            "14  FY13  350000     50000  2023-01-23 00:00:00    NaN        NaN  \n",
            "15  FY13  400000     55000  2023-01-14 00:00:00    NaN        NaN  \n",
            "16  FY13  450000     60000           28-01-2023    NaN        NaN  \n"
          ]
        }
      ],
      "source": [
        "import pandas as pd\n",
        "\n",
        "filepath=\"/content/Test_Case_Study.xlsx\"\n",
        "table = pd.read_excel(filepath, \"Python Test\")\n",
        "df = table.iloc[4:17, 1:12]\n",
        "df.columns=table.iloc[3,1:12]\n",
        "print(df)"
      ]
    },
    {
      "cell_type": "code",
      "source": [
        "unique_names=df[\"Name\"].unique()\n",
        "print(unique_names)"
      ],
      "metadata": {
        "colab": {
          "base_uri": "https://localhost:8080/"
        },
        "id": "7_e7drkn75ml",
        "outputId": "651bd7b9-c764-44f7-fab7-2c6a0a0915cb"
      },
      "execution_count": 4,
      "outputs": [
        {
          "output_type": "stream",
          "name": "stdout",
          "text": [
            "['DeRusha, Joe' 'De Pasquale, Richard' 'Dobbert, Susan' 'Dunton, Donna'\n",
            " 'De Sousa, Kristi' 'Dillard, Susan' 'De Vries, John' 'Defonso, Daniel']\n"
          ]
        }
      ]
    },
    {
      "cell_type": "code",
      "source": [
        "df1 = df.sort_values(by='Sales', ascending=False)\n",
        "top_3_sales = df1.head(3)\n",
        "top_3_sales[[\"Name\",\"Department\",\"Sales\"]]"
      ],
      "metadata": {
        "colab": {
          "base_uri": "https://localhost:8080/",
          "height": 143
        },
        "id": "XeZdamU780sd",
        "outputId": "c11ab026-602a-4a7b-b497-baffcbb55e25"
      },
      "execution_count": 5,
      "outputs": [
        {
          "output_type": "execute_result",
          "data": {
            "text/plain": [
              "3               Name          Department   Sales\n",
              "16   Defonso, Daniel      5264-ARD Sales  450000\n",
              "11  De Sousa, Kristi  5263-Sales Support  400000\n",
              "15  De Sousa, Kristi  5263-Sales Support  400000"
            ],
            "text/html": [
              "\n",
              "  <div id=\"df-09a57690-b3b0-4e80-8d2e-40f44c45df45\">\n",
              "    <div class=\"colab-df-container\">\n",
              "      <div>\n",
              "<style scoped>\n",
              "    .dataframe tbody tr th:only-of-type {\n",
              "        vertical-align: middle;\n",
              "    }\n",
              "\n",
              "    .dataframe tbody tr th {\n",
              "        vertical-align: top;\n",
              "    }\n",
              "\n",
              "    .dataframe thead th {\n",
              "        text-align: right;\n",
              "    }\n",
              "</style>\n",
              "<table border=\"1\" class=\"dataframe\">\n",
              "  <thead>\n",
              "    <tr style=\"text-align: right;\">\n",
              "      <th>3</th>\n",
              "      <th>Name</th>\n",
              "      <th>Department</th>\n",
              "      <th>Sales</th>\n",
              "    </tr>\n",
              "  </thead>\n",
              "  <tbody>\n",
              "    <tr>\n",
              "      <th>16</th>\n",
              "      <td>Defonso, Daniel</td>\n",
              "      <td>5264-ARD Sales</td>\n",
              "      <td>450000</td>\n",
              "    </tr>\n",
              "    <tr>\n",
              "      <th>11</th>\n",
              "      <td>De Sousa, Kristi</td>\n",
              "      <td>5263-Sales Support</td>\n",
              "      <td>400000</td>\n",
              "    </tr>\n",
              "    <tr>\n",
              "      <th>15</th>\n",
              "      <td>De Sousa, Kristi</td>\n",
              "      <td>5263-Sales Support</td>\n",
              "      <td>400000</td>\n",
              "    </tr>\n",
              "  </tbody>\n",
              "</table>\n",
              "</div>\n",
              "      <button class=\"colab-df-convert\" onclick=\"convertToInteractive('df-09a57690-b3b0-4e80-8d2e-40f44c45df45')\"\n",
              "              title=\"Convert this dataframe to an interactive table.\"\n",
              "              style=\"display:none;\">\n",
              "        \n",
              "  <svg xmlns=\"http://www.w3.org/2000/svg\" height=\"24px\"viewBox=\"0 0 24 24\"\n",
              "       width=\"24px\">\n",
              "    <path d=\"M0 0h24v24H0V0z\" fill=\"none\"/>\n",
              "    <path d=\"M18.56 5.44l.94 2.06.94-2.06 2.06-.94-2.06-.94-.94-2.06-.94 2.06-2.06.94zm-11 1L8.5 8.5l.94-2.06 2.06-.94-2.06-.94L8.5 2.5l-.94 2.06-2.06.94zm10 10l.94 2.06.94-2.06 2.06-.94-2.06-.94-.94-2.06-.94 2.06-2.06.94z\"/><path d=\"M17.41 7.96l-1.37-1.37c-.4-.4-.92-.59-1.43-.59-.52 0-1.04.2-1.43.59L10.3 9.45l-7.72 7.72c-.78.78-.78 2.05 0 2.83L4 21.41c.39.39.9.59 1.41.59.51 0 1.02-.2 1.41-.59l7.78-7.78 2.81-2.81c.8-.78.8-2.07 0-2.86zM5.41 20L4 18.59l7.72-7.72 1.47 1.35L5.41 20z\"/>\n",
              "  </svg>\n",
              "      </button>\n",
              "      \n",
              "  <style>\n",
              "    .colab-df-container {\n",
              "      display:flex;\n",
              "      flex-wrap:wrap;\n",
              "      gap: 12px;\n",
              "    }\n",
              "\n",
              "    .colab-df-convert {\n",
              "      background-color: #E8F0FE;\n",
              "      border: none;\n",
              "      border-radius: 50%;\n",
              "      cursor: pointer;\n",
              "      display: none;\n",
              "      fill: #1967D2;\n",
              "      height: 32px;\n",
              "      padding: 0 0 0 0;\n",
              "      width: 32px;\n",
              "    }\n",
              "\n",
              "    .colab-df-convert:hover {\n",
              "      background-color: #E2EBFA;\n",
              "      box-shadow: 0px 1px 2px rgba(60, 64, 67, 0.3), 0px 1px 3px 1px rgba(60, 64, 67, 0.15);\n",
              "      fill: #174EA6;\n",
              "    }\n",
              "\n",
              "    [theme=dark] .colab-df-convert {\n",
              "      background-color: #3B4455;\n",
              "      fill: #D2E3FC;\n",
              "    }\n",
              "\n",
              "    [theme=dark] .colab-df-convert:hover {\n",
              "      background-color: #434B5C;\n",
              "      box-shadow: 0px 1px 3px 1px rgba(0, 0, 0, 0.15);\n",
              "      filter: drop-shadow(0px 1px 2px rgba(0, 0, 0, 0.3));\n",
              "      fill: #FFFFFF;\n",
              "    }\n",
              "  </style>\n",
              "\n",
              "      <script>\n",
              "        const buttonEl =\n",
              "          document.querySelector('#df-09a57690-b3b0-4e80-8d2e-40f44c45df45 button.colab-df-convert');\n",
              "        buttonEl.style.display =\n",
              "          google.colab.kernel.accessAllowed ? 'block' : 'none';\n",
              "\n",
              "        async function convertToInteractive(key) {\n",
              "          const element = document.querySelector('#df-09a57690-b3b0-4e80-8d2e-40f44c45df45');\n",
              "          const dataTable =\n",
              "            await google.colab.kernel.invokeFunction('convertToInteractive',\n",
              "                                                     [key], {});\n",
              "          if (!dataTable) return;\n",
              "\n",
              "          const docLinkHtml = 'Like what you see? Visit the ' +\n",
              "            '<a target=\"_blank\" href=https://colab.research.google.com/notebooks/data_table.ipynb>data table notebook</a>'\n",
              "            + ' to learn more about interactive tables.';\n",
              "          element.innerHTML = '';\n",
              "          dataTable['output_type'] = 'display_data';\n",
              "          await google.colab.output.renderOutput(dataTable, element);\n",
              "          const docLink = document.createElement('div');\n",
              "          docLink.innerHTML = docLinkHtml;\n",
              "          element.appendChild(docLink);\n",
              "        }\n",
              "      </script>\n",
              "    </div>\n",
              "  </div>\n",
              "  "
            ]
          },
          "metadata": {},
          "execution_count": 5
        }
      ]
    },
    {
      "cell_type": "code",
      "source": [
        "df['Name'] = df['Name'].str.replace('DeRusha, Joe', 'John')\n",
        "print(df)"
      ],
      "metadata": {
        "colab": {
          "base_uri": "https://localhost:8080/"
        },
        "id": "k8qZKxjWK3JP",
        "outputId": "d0122682-57f7-47a2-b955-61868d07a77f"
      },
      "execution_count": 6,
      "outputs": [
        {
          "output_type": "stream",
          "name": "stdout",
          "text": [
            "3  Emp ID Region                  Name                    Department Month  \\\n",
            "4   10001   East                  John  5255-Data/Connectivity Sales   Jan   \n",
            "5   10002   East  De Pasquale, Richard      5256-Sales Mgt & Support   Jan   \n",
            "6   10003   East        Dobbert, Susan               5257-Auto Sales   Jan   \n",
            "7   10001   East                  John  5255-Data/Connectivity Sales   Jan   \n",
            "8   10002   East  De Pasquale, Richard      5256-Sales Mgt & Support   Jan   \n",
            "9   10003   East        Dobbert, Susan               5257-Auto Sales   Jan   \n",
            "10  10005   West         Dunton, Donna            5259-Sales Channel   Jan   \n",
            "11  10007   West      De Sousa, Kristi            5263-Sales Support   Jan   \n",
            "12  10004   East        Dillard, Susan                5258-IAP Sales   Jan   \n",
            "13  10005   West         Dunton, Donna            5259-Sales Channel   Jan   \n",
            "14  10006   West        De Vries, John                  5262-Auto GM   Jan   \n",
            "15  10007   West      De Sousa, Kristi            5263-Sales Support   Jan   \n",
            "16  10008   West       Defonso, Daniel                5264-ARD Sales   Jan   \n",
            "\n",
            "3   Year   Sales Discounts                 Date %Sales % Discount  \n",
            "4   FY13  100000     25000           24-01-2023    NaN        NaN  \n",
            "5   FY13  150000     30000  2023-01-01 00:00:00    NaN        NaN  \n",
            "6   FY13  200000     35000  2023-01-08 00:00:00    NaN        NaN  \n",
            "7   FY13  100000     25000  2023-01-28 00:00:00    NaN        NaN  \n",
            "8   FY13  150000     30000  2023-01-21 00:00:00    NaN        NaN  \n",
            "9   FY13  200000     35000  2023-01-23 00:00:00    NaN        NaN  \n",
            "10  FY13  300000     45000  2023-01-14 00:00:00    NaN        NaN  \n",
            "11  FY13  400000     55000           28-01-2023    NaN        NaN  \n",
            "12  FY13  250000     40000  2023-01-28 00:00:00    NaN        NaN  \n",
            "13  FY13  300000     45000  2023-01-21 00:00:00    NaN        NaN  \n",
            "14  FY13  350000     50000  2023-01-23 00:00:00    NaN        NaN  \n",
            "15  FY13  400000     55000  2023-01-14 00:00:00    NaN        NaN  \n",
            "16  FY13  450000     60000           28-01-2023    NaN        NaN  \n"
          ]
        }
      ]
    },
    {
      "cell_type": "code",
      "source": [
        "import matplotlib.pyplot as plt\n",
        "df[\"Sales\"] = pd.to_numeric(df[\"Sales\"])\n",
        "grouped = df.groupby(\"Region\")\n",
        "top_5_sales = grouped[\"Sales\"].nlargest(5)\n",
        "top_5_sales.plot(kind=\"bar\")\n",
        "plt.show()"
      ],
      "metadata": {
        "colab": {
          "base_uri": "https://localhost:8080/",
          "height": 321
        },
        "id": "M2QjwnLhLVD_",
        "outputId": "fff76e41-cd4f-44e7-b498-9ae595dad415"
      },
      "execution_count": 7,
      "outputs": [
        {
          "output_type": "display_data",
          "data": {
            "text/plain": [
              "<Figure size 432x288 with 1 Axes>"
            ],
            "image/png": "[encoded data removed]"
          },
          "metadata": {
            "needs_background": "light"
          }
        }
      ]
    },
    {
      "cell_type": "code",
      "source": [
        "grouped1 = df.groupby(\"Name\")\n",
        "sales_sum = grouped1[\"Sales\"].sum()\n",
        "df[\"Percentage_contribution\"] = df.groupby(\"Name\")[\"Sales\"].apply(lambda x: 100 * x / x.sum())\n",
        "sales_sum.plot.pie(autopct='%1.1f%%', labels=sales_sum.index)\n",
        "plt.show()"
      ],
      "metadata": {
        "colab": {
          "base_uri": "https://localhost:8080/",
          "height": 248
        },
        "id": "A5aPa_MFnTPk",
        "outputId": "4f01a86c-e3e5-4ce6-807e-3a254b67b179"
      },
      "execution_count": 8,
      "outputs": [
        {
          "output_type": "display_data",
          "data": {
            "text/plain": [
              "<Figure size 432x288 with 1 Axes>"
            ],
            "image/png": "[encoded data removed]"
          },
          "metadata": {}
        }
      ]
    }
  ]
}